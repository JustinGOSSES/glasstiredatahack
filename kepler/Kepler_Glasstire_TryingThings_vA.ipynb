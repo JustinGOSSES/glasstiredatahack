{
 "cells": [
  {
   "cell_type": "code",
   "execution_count": 2,
   "metadata": {},
   "outputs": [],
   "source": [
    "import pandas as pd"
   ]
  },
  {
   "cell_type": "code",
   "execution_count": 3,
   "metadata": {},
   "outputs": [
    {
     "name": "stdout",
     "output_type": "stream",
     "text": [
      "User Guide: https://github.com/keplergl/kepler.gl/blob/master/docs/keplergl-jupyter/user-guide.md\n"
     ]
    },
    {
     "data": {
      "application/vnd.jupyter.widget-view+json": {
       "model_id": "fda807c509c145a692691bebbf951b87",
       "version_major": 2,
       "version_minor": 0
      },
      "text/plain": [
       "KeplerGl(height=700)"
      ]
     },
     "metadata": {},
     "output_type": "display_data"
    }
   ],
   "source": [
    "# Load an empty map\n",
    "from keplergl import KeplerGl\n",
    "map_1 = KeplerGl(height=700)\n",
    "map_1"
   ]
  },
  {
   "cell_type": "code",
   "execution_count": 4,
   "metadata": {},
   "outputs": [
    {
     "name": "stdout",
     "output_type": "stream",
     "text": [
      "Kepler_Glasstire_TryingThings_vA.ipynb \u001b[34mscience_sites_cleaned\u001b[m\u001b[m\r\n"
     ]
    }
   ],
   "source": [
    "!ls"
   ]
  },
  {
   "cell_type": "code",
   "execution_count": 5,
   "metadata": {},
   "outputs": [],
   "source": [
    "!cd .."
   ]
  },
  {
   "cell_type": "code",
   "execution_count": 6,
   "metadata": {},
   "outputs": [
    {
     "name": "stdout",
     "output_type": "stream",
     "text": [
      "Kepler_Glasstire_TryingThings_vA.ipynb \u001b[34mscience_sites_cleaned\u001b[m\u001b[m\r\n"
     ]
    }
   ],
   "source": [
    "!ls"
   ]
  },
  {
   "cell_type": "code",
   "execution_count": 7,
   "metadata": {},
   "outputs": [],
   "source": [
    "data_1 =pd.read_csv('science_sites_cleaned/science_job_sites_just_good_ones_vF.csv')"
   ]
  },
  {
   "cell_type": "code",
   "execution_count": 8,
   "metadata": {},
   "outputs": [
    {
     "data": {
      "text/html": [
       "<div>\n",
       "<style scoped>\n",
       "    .dataframe tbody tr th:only-of-type {\n",
       "        vertical-align: middle;\n",
       "    }\n",
       "\n",
       "    .dataframe tbody tr th {\n",
       "        vertical-align: top;\n",
       "    }\n",
       "\n",
       "    .dataframe thead th {\n",
       "        text-align: right;\n",
       "    }\n",
       "</style>\n",
       "<table border=\"1\" class=\"dataframe\">\n",
       "  <thead>\n",
       "    <tr style=\"text-align: right;\">\n",
       "      <th></th>\n",
       "      <th>Unnamed: 0</th>\n",
       "      <th>latitude</th>\n",
       "      <th>longitude</th>\n",
       "      <th>FALSE3</th>\n",
       "      <th>altitude</th>\n",
       "      <th>geometry</th>\n",
       "      <th>commpany_searched_for</th>\n",
       "      <th>name</th>\n",
       "      <th>FALSE</th>\n",
       "      <th>FALSE2</th>\n",
       "      <th>job_title</th>\n",
       "      <th>place_id</th>\n",
       "      <th>types</th>\n",
       "      <th>address</th>\n",
       "      <th>reference</th>\n",
       "      <th>photos</th>\n",
       "      <th>industry</th>\n",
       "      <th>rating_x</th>\n",
       "      <th>id</th>\n",
       "    </tr>\n",
       "  </thead>\n",
       "  <tbody>\n",
       "    <tr>\n",
       "      <td>0</td>\n",
       "      <td>0.0</td>\n",
       "      <td>29.709847</td>\n",
       "      <td>-95.399630</td>\n",
       "      <td>1.0</td>\n",
       "      <td>NaN</td>\n",
       "      <td>Point</td>\n",
       "      <td>Houston+Methodist+Houston+Texas</td>\n",
       "      <td>Methodist Hospital Emergency Services</td>\n",
       "      <td>0.0</td>\n",
       "      <td>TRUE</td>\n",
       "      <td>Biochemistry</td>\n",
       "      <td>ChIJ67LmOXHAQIYRVm8eii2x5gA</td>\n",
       "      <td>hospital,point_of_interest,establishment</td>\n",
       "      <td>6565 Fannin St, Houston, TX 77030, United States</td>\n",
       "      <td>ClRQAAAAMKbMZOEOcqiCfvQn-3XzYO7oIngR90UZ2m4Hmi...</td>\n",
       "      <td>NaN</td>\n",
       "      <td>health</td>\n",
       "      <td>3.4</td>\n",
       "      <td>aa6773412906ccba5c9a7fc7311bf947487ccd55</td>\n",
       "    </tr>\n",
       "    <tr>\n",
       "      <td>1</td>\n",
       "      <td>2.0</td>\n",
       "      <td>29.710440</td>\n",
       "      <td>-95.396170</td>\n",
       "      <td>1.0</td>\n",
       "      <td>NaN</td>\n",
       "      <td>Point</td>\n",
       "      <td>Baylor+Medicine+Houston+Texas</td>\n",
       "      <td>Baylor College of Medicine</td>\n",
       "      <td>0.0</td>\n",
       "      <td>TRUE</td>\n",
       "      <td>Biochemistry</td>\n",
       "      <td>ChIJ33w1MnfAQIYRkP5-Lt3RhxQ</td>\n",
       "      <td>university,health,point_of_interest,establishment</td>\n",
       "      <td>1 Baylor Plaza, Houston, TX 77030, United States</td>\n",
       "      <td>CmRRAAAAL_AnmlCWOnBltC3dQJRr_RkZ67P5x0OLue_MXC...</td>\n",
       "      <td>3264|CoQBdwAAAGqGQBAaUdB8P2Lk5ueDWSolSdI5h2Mez...</td>\n",
       "      <td>health</td>\n",
       "      <td>3.7</td>\n",
       "      <td>198f1a949ff6c363938c8f9bdb902683165e808c</td>\n",
       "    </tr>\n",
       "    <tr>\n",
       "      <td>2</td>\n",
       "      <td>3.0</td>\n",
       "      <td>29.867935</td>\n",
       "      <td>-95.465904</td>\n",
       "      <td>1.0</td>\n",
       "      <td>NaN</td>\n",
       "      <td>Point</td>\n",
       "      <td>Lonestar+College+System+Houston+Texas</td>\n",
       "      <td>Lone Star College System</td>\n",
       "      <td>NaN</td>\n",
       "      <td>0</td>\n",
       "      <td>Biochemistry</td>\n",
       "      <td>ChIJqaVfqaXIQIYRf8PTc49aphc</td>\n",
       "      <td>point_of_interest,establishment</td>\n",
       "      <td>4141 Victory Dr, Houston, TX 77088, United States</td>\n",
       "      <td>CmRRAAAArUhl8aiRhGDyzIWll6e3tTGZyOVygkgquD5zJh...</td>\n",
       "      <td>NaN</td>\n",
       "      <td>health</td>\n",
       "      <td>3.0</td>\n",
       "      <td>90b73098291a8e90c04f33a8c85477dfcd26379d</td>\n",
       "    </tr>\n",
       "    <tr>\n",
       "      <td>3</td>\n",
       "      <td>4.0</td>\n",
       "      <td>30.007182</td>\n",
       "      <td>-95.379741</td>\n",
       "      <td>1.0</td>\n",
       "      <td>NaN</td>\n",
       "      <td>Point</td>\n",
       "      <td>Lonestar+College+System+Houston+Texas</td>\n",
       "      <td>Lone Star College-North Harris</td>\n",
       "      <td>0.0</td>\n",
       "      <td>TRUE</td>\n",
       "      <td>Biochemistry</td>\n",
       "      <td>ChIJFwwy8Xa1QIYRMJtJ9403tZg</td>\n",
       "      <td>point_of_interest,establishment</td>\n",
       "      <td>2700 W W Thorne Dr, Houston, TX 77073, United ...</td>\n",
       "      <td>CmRSAAAAz0FGIWfRqS9DzCmGPQ4COogJOY1SvyQVRvnrKi...</td>\n",
       "      <td>640|CoQBdwAAAGb3MUgFPLEI3_vXrS6HxGvOdYyzfeVXFU...</td>\n",
       "      <td>health</td>\n",
       "      <td>3.0</td>\n",
       "      <td>50e8c3703dd49384cfecda9f52ac2537c832cf50</td>\n",
       "    </tr>\n",
       "    <tr>\n",
       "      <td>4</td>\n",
       "      <td>5.0</td>\n",
       "      <td>30.187294</td>\n",
       "      <td>-95.488022</td>\n",
       "      <td>1.0</td>\n",
       "      <td>NaN</td>\n",
       "      <td>Point</td>\n",
       "      <td>Lonestar+College+System+Houston+Texas</td>\n",
       "      <td>Lone Star College System</td>\n",
       "      <td>0.0</td>\n",
       "      <td>TRUE</td>\n",
       "      <td>Biochemistry</td>\n",
       "      <td>ChIJz5LplNkwR4YRI8q2M1XhwqQ</td>\n",
       "      <td>point_of_interest,establishment</td>\n",
       "      <td>5000 Research Forest Dr, The Woodlands, TX 773...</td>\n",
       "      <td>CmRSAAAAi0yo7F_1_th7bTu7iJs255oELM69lt8VhEOl3U...</td>\n",
       "      <td>2448|CoQBdwAAAEYbmPyMNLkC2H-WMtmbe3baNYrXNWZB-...</td>\n",
       "      <td>health</td>\n",
       "      <td>2.5</td>\n",
       "      <td>c4fbb88cbef4056a453a4e050728b4b6b1f46539</td>\n",
       "    </tr>\n",
       "  </tbody>\n",
       "</table>\n",
       "</div>"
      ],
      "text/plain": [
       "   Unnamed: 0   latitude  longitude  FALSE3  altitude geometry  \\\n",
       "0         0.0  29.709847 -95.399630     1.0       NaN    Point   \n",
       "1         2.0  29.710440 -95.396170     1.0       NaN    Point   \n",
       "2         3.0  29.867935 -95.465904     1.0       NaN    Point   \n",
       "3         4.0  30.007182 -95.379741     1.0       NaN    Point   \n",
       "4         5.0  30.187294 -95.488022     1.0       NaN    Point   \n",
       "\n",
       "                   commpany_searched_for  \\\n",
       "0        Houston+Methodist+Houston+Texas   \n",
       "1          Baylor+Medicine+Houston+Texas   \n",
       "2  Lonestar+College+System+Houston+Texas   \n",
       "3  Lonestar+College+System+Houston+Texas   \n",
       "4  Lonestar+College+System+Houston+Texas   \n",
       "\n",
       "                                    name  FALSE FALSE2     job_title  \\\n",
       "0  Methodist Hospital Emergency Services    0.0   TRUE  Biochemistry   \n",
       "1             Baylor College of Medicine    0.0   TRUE  Biochemistry   \n",
       "2               Lone Star College System    NaN      0  Biochemistry   \n",
       "3         Lone Star College-North Harris    0.0   TRUE  Biochemistry   \n",
       "4               Lone Star College System    0.0   TRUE  Biochemistry   \n",
       "\n",
       "                      place_id  \\\n",
       "0  ChIJ67LmOXHAQIYRVm8eii2x5gA   \n",
       "1  ChIJ33w1MnfAQIYRkP5-Lt3RhxQ   \n",
       "2  ChIJqaVfqaXIQIYRf8PTc49aphc   \n",
       "3  ChIJFwwy8Xa1QIYRMJtJ9403tZg   \n",
       "4  ChIJz5LplNkwR4YRI8q2M1XhwqQ   \n",
       "\n",
       "                                               types  \\\n",
       "0           hospital,point_of_interest,establishment   \n",
       "1  university,health,point_of_interest,establishment   \n",
       "2                    point_of_interest,establishment   \n",
       "3                    point_of_interest,establishment   \n",
       "4                    point_of_interest,establishment   \n",
       "\n",
       "                                             address  \\\n",
       "0   6565 Fannin St, Houston, TX 77030, United States   \n",
       "1   1 Baylor Plaza, Houston, TX 77030, United States   \n",
       "2  4141 Victory Dr, Houston, TX 77088, United States   \n",
       "3  2700 W W Thorne Dr, Houston, TX 77073, United ...   \n",
       "4  5000 Research Forest Dr, The Woodlands, TX 773...   \n",
       "\n",
       "                                           reference  \\\n",
       "0  ClRQAAAAMKbMZOEOcqiCfvQn-3XzYO7oIngR90UZ2m4Hmi...   \n",
       "1  CmRRAAAAL_AnmlCWOnBltC3dQJRr_RkZ67P5x0OLue_MXC...   \n",
       "2  CmRRAAAArUhl8aiRhGDyzIWll6e3tTGZyOVygkgquD5zJh...   \n",
       "3  CmRSAAAAz0FGIWfRqS9DzCmGPQ4COogJOY1SvyQVRvnrKi...   \n",
       "4  CmRSAAAAi0yo7F_1_th7bTu7iJs255oELM69lt8VhEOl3U...   \n",
       "\n",
       "                                              photos industry  rating_x  \\\n",
       "0                                                NaN   health       3.4   \n",
       "1  3264|CoQBdwAAAGqGQBAaUdB8P2Lk5ueDWSolSdI5h2Mez...   health       3.7   \n",
       "2                                                NaN   health       3.0   \n",
       "3  640|CoQBdwAAAGb3MUgFPLEI3_vXrS6HxGvOdYyzfeVXFU...   health       3.0   \n",
       "4  2448|CoQBdwAAAEYbmPyMNLkC2H-WMtmbe3baNYrXNWZB-...   health       2.5   \n",
       "\n",
       "                                         id  \n",
       "0  aa6773412906ccba5c9a7fc7311bf947487ccd55  \n",
       "1  198f1a949ff6c363938c8f9bdb902683165e808c  \n",
       "2  90b73098291a8e90c04f33a8c85477dfcd26379d  \n",
       "3  50e8c3703dd49384cfecda9f52ac2537c832cf50  \n",
       "4  c4fbb88cbef4056a453a4e050728b4b6b1f46539  "
      ]
     },
     "execution_count": 8,
     "metadata": {},
     "output_type": "execute_result"
    }
   ],
   "source": [
    "data_1.head()"
   ]
  },
  {
   "cell_type": "code",
   "execution_count": 9,
   "metadata": {},
   "outputs": [],
   "source": [
    "config = {'version': 'v1',\n",
    " 'config': {'visState': {'filters': [],\n",
    "   'layers': [{'type':'point','config':{'dataId':'data_1'}}],\n",
    "    'filters': [{'dataId':'data_1','name':'job_title'}],\n",
    "   'interactionConfig': {'tooltip': {'fieldsToShow': {'data_1':['job_title','name','types']}, 'enabled': True},\n",
    "    'brush': {'size': 4, 'enabled': False}},\n",
    "   'layerBlending': 'normal',\n",
    "   'splitMaps': []},\n",
    "  'mapState': {'bearing': 0,\n",
    "   'dragRotate': False,\n",
    "   'latitude': 30.007182,\n",
    "   'longitude': -95.366456,\n",
    "   'pitch': 0,\n",
    "   'zoom': 9.21057540104681,\n",
    "   'isSplit': False},\n",
    "  'mapStyle': {'styleType': 'dark',\n",
    "   'topLayerGroups': {},\n",
    "   'visibleLayerGroups': {'label': True,\n",
    "    'road': True,\n",
    "    'border': False,\n",
    "    'building': True,\n",
    "    'water': True,\n",
    "    'land': True,\n",
    "    '3d building': False},\n",
    "   'threeDBuildingColor': [9.665468314072013,\n",
    "    17.18305478057247,\n",
    "    31.1442867897876],\n",
    "   'mapStyles': {}}}}"
   ]
  },
  {
   "cell_type": "code",
   "execution_count": 10,
   "metadata": {},
   "outputs": [],
   "source": [
    "map_1.config = config\n"
   ]
  },
  {
   "cell_type": "code",
   "execution_count": 11,
   "metadata": {},
   "outputs": [],
   "source": [
    "map_1.add_data(data=data_1,name=\"data_1\")\n"
   ]
  },
  {
   "cell_type": "code",
   "execution_count": 12,
   "metadata": {
    "scrolled": false
   },
   "outputs": [
    {
     "data": {
      "application/vnd.jupyter.widget-view+json": {
       "model_id": "fda807c509c145a692691bebbf951b87",
       "version_major": 2,
       "version_minor": 0
      },
      "text/plain": [
       "KeplerGl(config={'version': 'v1', 'config': {'visState': {'filters': [], 'layers': [], 'interactionConfig': {'…"
      ]
     },
     "metadata": {},
     "output_type": "display_data"
    }
   ],
   "source": [
    "map_1"
   ]
  },
  {
   "cell_type": "code",
   "execution_count": 13,
   "metadata": {},
   "outputs": [
    {
     "name": "stdout",
     "output_type": "stream",
     "text": [
      "User Guide: https://github.com/keplergl/kepler.gl/blob/master/docs/keplergl-jupyter/user-guide.md\n"
     ]
    }
   ],
   "source": [
    "map_2 = KeplerGl(height=700)\n",
    "map_2.add_data(data=data_1,name=\"data_1\")"
   ]
  },
  {
   "cell_type": "code",
   "execution_count": 14,
   "metadata": {},
   "outputs": [
    {
     "data": {
      "application/vnd.jupyter.widget-view+json": {
       "model_id": "f5134a44417b440dbe9dc40c5aef626f",
       "version_major": 2,
       "version_minor": 0
      },
      "text/plain": [
       "KeplerGl(data={'data_1': {'index': [0, 1, 2, 3, 4, 5, 6, 7, 8, 9, 10, 11, 12, 13, 14, 15, 16, 17, 18, 19, 20, …"
      ]
     },
     "metadata": {},
     "output_type": "display_data"
    }
   ],
   "source": [
    "map_2"
   ]
  },
  {
   "cell_type": "code",
   "execution_count": null,
   "metadata": {},
   "outputs": [],
   "source": []
  },
  {
   "cell_type": "code",
   "execution_count": null,
   "metadata": {},
   "outputs": [],
   "source": []
  },
  {
   "cell_type": "code",
   "execution_count": null,
   "metadata": {},
   "outputs": [],
   "source": []
  },
  {
   "cell_type": "code",
   "execution_count": null,
   "metadata": {},
   "outputs": [],
   "source": []
  }
 ],
 "metadata": {
  "kernelspec": {
   "display_name": "Python 3",
   "language": "python",
   "name": "python3"
  },
  "language_info": {
   "codemirror_mode": {
    "name": "ipython",
    "version": 3
   },
   "file_extension": ".py",
   "mimetype": "text/x-python",
   "name": "python",
   "nbconvert_exporter": "python",
   "pygments_lexer": "ipython3",
   "version": "3.7.4"
  }
 },
 "nbformat": 4,
 "nbformat_minor": 2
}
