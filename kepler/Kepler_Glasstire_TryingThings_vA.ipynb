{
 "cells": [
  {
   "cell_type": "code",
   "execution_count": 1,
   "metadata": {},
   "outputs": [],
   "source": [
    "import pandas as pd"
   ]
  },
  {
   "cell_type": "code",
   "execution_count": 2,
   "metadata": {},
   "outputs": [
    {
     "name": "stdout",
     "output_type": "stream",
     "text": [
      "User Guide: https://github.com/keplergl/kepler.gl/blob/master/docs/keplergl-jupyter/user-guide.md\n"
     ]
    },
    {
     "data": {
      "application/vnd.jupyter.widget-view+json": {
       "model_id": "5a367344752646978f43dfbaa21fb296",
       "version_major": 2,
       "version_minor": 0
      },
      "text/plain": [
       "KeplerGl(height=700)"
      ]
     },
     "metadata": {},
     "output_type": "display_data"
    }
   ],
   "source": [
    "# Load an empty map\n",
    "from keplergl import KeplerGl\n",
    "map_1 = KeplerGl(height=700)\n",
    "map_1"
   ]
  },
  {
   "cell_type": "code",
   "execution_count": 3,
   "metadata": {},
   "outputs": [
    {
     "name": "stdout",
     "output_type": "stream",
     "text": [
      "Untitled.ipynb\r\n"
     ]
    }
   ],
   "source": [
    "!ls"
   ]
  },
  {
   "cell_type": "code",
   "execution_count": 4,
   "metadata": {},
   "outputs": [],
   "source": [
    "!cd .."
   ]
  },
  {
   "cell_type": "code",
   "execution_count": 5,
   "metadata": {},
   "outputs": [
    {
     "name": "stdout",
     "output_type": "stream",
     "text": [
      "Untitled.ipynb\r\n"
     ]
    }
   ],
   "source": [
    "!ls"
   ]
  },
  {
   "cell_type": "code",
   "execution_count": 6,
   "metadata": {},
   "outputs": [],
   "source": [
    "data_1 =pd.read_csv('../Glasstire/merge_season.csv')"
   ]
  },
  {
   "cell_type": "code",
   "execution_count": 7,
   "metadata": {},
   "outputs": [
    {
     "data": {
      "text/html": [
       "<div>\n",
       "<style scoped>\n",
       "    .dataframe tbody tr th:only-of-type {\n",
       "        vertical-align: middle;\n",
       "    }\n",
       "\n",
       "    .dataframe tbody tr th {\n",
       "        vertical-align: top;\n",
       "    }\n",
       "\n",
       "    .dataframe thead th {\n",
       "        text-align: right;\n",
       "    }\n",
       "</style>\n",
       "<table border=\"1\" class=\"dataframe\">\n",
       "  <thead>\n",
       "    <tr style=\"text-align: right;\">\n",
       "      <th></th>\n",
       "      <th>event_uid</th>\n",
       "      <th>venue_uid</th>\n",
       "      <th>start_date</th>\n",
       "      <th>end_date</th>\n",
       "      <th>venue</th>\n",
       "      <th>lat</th>\n",
       "      <th>lon</th>\n",
       "      <th>address</th>\n",
       "      <th>city</th>\n",
       "      <th>zip</th>\n",
       "      <th>url</th>\n",
       "      <th>artist_uid</th>\n",
       "      <th>start_dt</th>\n",
       "      <th>end_dt</th>\n",
       "      <th>event_days</th>\n",
       "      <th>event_mth</th>\n",
       "      <th>season</th>\n",
       "      <th>flood_season</th>\n",
       "    </tr>\n",
       "  </thead>\n",
       "  <tbody>\n",
       "    <tr>\n",
       "      <td>0</td>\n",
       "      <td>4575</td>\n",
       "      <td>10137684</td>\n",
       "      <td>2013-05-31</td>\n",
       "      <td>2013-09-08</td>\n",
       "      <td>Houston Center for Contemporary Craft</td>\n",
       "      <td>29.730716</td>\n",
       "      <td>-95.385801</td>\n",
       "      <td>4848 Main Street</td>\n",
       "      <td>houston</td>\n",
       "      <td>77002.0</td>\n",
       "      <td>www.crafthouston.org</td>\n",
       "      <td>16459675.0</td>\n",
       "      <td>2013-05-31</td>\n",
       "      <td>2013-09-08</td>\n",
       "      <td>100</td>\n",
       "      <td>5</td>\n",
       "      <td>spring</td>\n",
       "      <td>yes</td>\n",
       "    </tr>\n",
       "    <tr>\n",
       "      <td>1</td>\n",
       "      <td>13228</td>\n",
       "      <td>13371986</td>\n",
       "      <td>2012-04-25</td>\n",
       "      <td>2012-04-25</td>\n",
       "      <td>Project Row Houses</td>\n",
       "      <td>29.731944</td>\n",
       "      <td>-95.365296</td>\n",
       "      <td>2521 Holman Street</td>\n",
       "      <td>houston</td>\n",
       "      <td>77004.0</td>\n",
       "      <td>www.projectrowhouses.org</td>\n",
       "      <td>3079814.0</td>\n",
       "      <td>2012-04-25</td>\n",
       "      <td>2012-04-25</td>\n",
       "      <td>0</td>\n",
       "      <td>4</td>\n",
       "      <td>spring</td>\n",
       "      <td>no</td>\n",
       "    </tr>\n",
       "    <tr>\n",
       "      <td>2</td>\n",
       "      <td>13228</td>\n",
       "      <td>13371986</td>\n",
       "      <td>2012-04-25</td>\n",
       "      <td>2012-04-25</td>\n",
       "      <td>Project Row Houses</td>\n",
       "      <td>29.731944</td>\n",
       "      <td>-95.365296</td>\n",
       "      <td>2521 Holman Street</td>\n",
       "      <td>houston</td>\n",
       "      <td>77004.0</td>\n",
       "      <td>www.projectrowhouses.org</td>\n",
       "      <td>15368376.0</td>\n",
       "      <td>2012-04-25</td>\n",
       "      <td>2012-04-25</td>\n",
       "      <td>0</td>\n",
       "      <td>4</td>\n",
       "      <td>spring</td>\n",
       "      <td>no</td>\n",
       "    </tr>\n",
       "    <tr>\n",
       "      <td>3</td>\n",
       "      <td>13313</td>\n",
       "      <td>13357951</td>\n",
       "      <td>2019-03-03</td>\n",
       "      <td>2019-04-04</td>\n",
       "      <td>Watercolor Art Society</td>\n",
       "      <td>29.738371</td>\n",
       "      <td>-95.399542</td>\n",
       "      <td>1601 West Alabama Street</td>\n",
       "      <td>houston</td>\n",
       "      <td>77006.0</td>\n",
       "      <td>www.watercolorhouston.org</td>\n",
       "      <td>NaN</td>\n",
       "      <td>2019-03-03</td>\n",
       "      <td>2019-04-04</td>\n",
       "      <td>32</td>\n",
       "      <td>3</td>\n",
       "      <td>spring</td>\n",
       "      <td>no</td>\n",
       "    </tr>\n",
       "    <tr>\n",
       "      <td>4</td>\n",
       "      <td>13793</td>\n",
       "      <td>6249733</td>\n",
       "      <td>2016-03-21</td>\n",
       "      <td>2016-04-08</td>\n",
       "      <td>Gallery 220 (HBU)</td>\n",
       "      <td>29.698029</td>\n",
       "      <td>-95.515279</td>\n",
       "      <td>7502 Fondren Road, University Academic Center</td>\n",
       "      <td>houston</td>\n",
       "      <td>77074.0</td>\n",
       "      <td>NaN</td>\n",
       "      <td>9052742.0</td>\n",
       "      <td>2016-03-21</td>\n",
       "      <td>2016-04-08</td>\n",
       "      <td>18</td>\n",
       "      <td>3</td>\n",
       "      <td>spring</td>\n",
       "      <td>no</td>\n",
       "    </tr>\n",
       "  </tbody>\n",
       "</table>\n",
       "</div>"
      ],
      "text/plain": [
       "   event_uid  venue_uid  start_date    end_date  \\\n",
       "0       4575   10137684  2013-05-31  2013-09-08   \n",
       "1      13228   13371986  2012-04-25  2012-04-25   \n",
       "2      13228   13371986  2012-04-25  2012-04-25   \n",
       "3      13313   13357951  2019-03-03  2019-04-04   \n",
       "4      13793    6249733  2016-03-21  2016-04-08   \n",
       "\n",
       "                                   venue        lat        lon  \\\n",
       "0  Houston Center for Contemporary Craft  29.730716 -95.385801   \n",
       "1                     Project Row Houses  29.731944 -95.365296   \n",
       "2                     Project Row Houses  29.731944 -95.365296   \n",
       "3                 Watercolor Art Society  29.738371 -95.399542   \n",
       "4                      Gallery 220 (HBU)  29.698029 -95.515279   \n",
       "\n",
       "                                         address     city      zip  \\\n",
       "0                               4848 Main Street  houston  77002.0   \n",
       "1                             2521 Holman Street  houston  77004.0   \n",
       "2                             2521 Holman Street  houston  77004.0   \n",
       "3                       1601 West Alabama Street  houston  77006.0   \n",
       "4  7502 Fondren Road, University Academic Center  houston  77074.0   \n",
       "\n",
       "                         url  artist_uid    start_dt      end_dt  event_days  \\\n",
       "0       www.crafthouston.org  16459675.0  2013-05-31  2013-09-08         100   \n",
       "1   www.projectrowhouses.org   3079814.0  2012-04-25  2012-04-25           0   \n",
       "2   www.projectrowhouses.org  15368376.0  2012-04-25  2012-04-25           0   \n",
       "3  www.watercolorhouston.org         NaN  2019-03-03  2019-04-04          32   \n",
       "4                        NaN   9052742.0  2016-03-21  2016-04-08          18   \n",
       "\n",
       "   event_mth  season flood_season  \n",
       "0          5  spring          yes  \n",
       "1          4  spring           no  \n",
       "2          4  spring           no  \n",
       "3          3  spring           no  \n",
       "4          3  spring           no  "
      ]
     },
     "execution_count": 7,
     "metadata": {},
     "output_type": "execute_result"
    }
   ],
   "source": [
    "data_1.head()"
   ]
  },
  {
   "cell_type": "code",
   "execution_count": 8,
   "metadata": {},
   "outputs": [],
   "source": [
    "config = {'version': 'v1',\n",
    " 'config': {'visState': {'filters': [],\n",
    "   'layers': [{'type':'point','config':{'dataId':'data_1'}}],\n",
    "    'filters': [{'dataId':'data_1','name':'job_title'}],\n",
    "   'interactionConfig': {'tooltip': {'fieldsToShow': {'data_1':['job_title','name','types']}, 'enabled': True},\n",
    "    'brush': {'size': 4, 'enabled': False}},\n",
    "   'layerBlending': 'normal',\n",
    "   'splitMaps': []},\n",
    "  'mapState': {'bearing': 0,\n",
    "   'dragRotate': False,\n",
    "   'latitude': 30.007182,\n",
    "   'longitude': -95.366456,\n",
    "   'pitch': 0,\n",
    "   'zoom': 9.21057540104681,\n",
    "   'isSplit': False},\n",
    "  'mapStyle': {'styleType': 'dark',\n",
    "   'topLayerGroups': {},\n",
    "   'visibleLayerGroups': {'label': True,\n",
    "    'road': True,\n",
    "    'border': False,\n",
    "    'building': True,\n",
    "    'water': True,\n",
    "    'land': True,\n",
    "    '3d building': False},\n",
    "   'threeDBuildingColor': [9.665468314072013,\n",
    "    17.18305478057247,\n",
    "    31.1442867897876],\n",
    "   'mapStyles': {}}}}"
   ]
  },
  {
   "cell_type": "code",
   "execution_count": 9,
   "metadata": {},
   "outputs": [],
   "source": [
    "map_1.config = config\n"
   ]
  },
  {
   "cell_type": "code",
   "execution_count": 10,
   "metadata": {},
   "outputs": [],
   "source": [
    "map_1.add_data(data=data_1,name=\"data_1\")\n"
   ]
  },
  {
   "cell_type": "code",
   "execution_count": 11,
   "metadata": {
    "scrolled": false
   },
   "outputs": [
    {
     "data": {
      "application/vnd.jupyter.widget-view+json": {
       "model_id": "5a367344752646978f43dfbaa21fb296",
       "version_major": 2,
       "version_minor": 0
      },
      "text/plain": [
       "KeplerGl(config={'version': 'v1', 'config': {'visState': {'filters': [], 'layers': [{'id': 'tzyxsin', 'type': …"
      ]
     },
     "metadata": {},
     "output_type": "display_data"
    }
   ],
   "source": [
    "map_1"
   ]
  },
  {
   "cell_type": "code",
   "execution_count": 12,
   "metadata": {},
   "outputs": [
    {
     "name": "stdout",
     "output_type": "stream",
     "text": [
      "User Guide: https://github.com/keplergl/kepler.gl/blob/master/docs/keplergl-jupyter/user-guide.md\n"
     ]
    }
   ],
   "source": [
    "map_2 = KeplerGl(height=700)\n",
    "map_2.add_data(data=data_1,name=\"data_1\")"
   ]
  },
  {
   "cell_type": "code",
   "execution_count": 13,
   "metadata": {},
   "outputs": [
    {
     "data": {
      "application/vnd.jupyter.widget-view+json": {
       "model_id": "23eb4ca66cf641a4a9fca9938ca952ba",
       "version_major": 2,
       "version_minor": 0
      },
      "text/plain": [
       "KeplerGl(data={'data_1': {'index': [0, 1, 2, 3, 4, 5, 6, 7, 8, 9, 10, 11, 12, 13, 14, 15, 16, 17, 18, 19, 20, …"
      ]
     },
     "metadata": {},
     "output_type": "display_data"
    }
   ],
   "source": [
    "map_2"
   ]
  },
  {
   "cell_type": "code",
   "execution_count": null,
   "metadata": {},
   "outputs": [],
   "source": []
  }
 ],
 "metadata": {
  "kernelspec": {
   "display_name": "Python 3",
   "language": "python",
   "name": "python3"
  },
  "language_info": {
   "codemirror_mode": {
    "name": "ipython",
    "version": 3
   },
   "file_extension": ".py",
   "mimetype": "text/x-python",
   "name": "python",
   "nbconvert_exporter": "python",
   "pygments_lexer": "ipython3",
   "version": "3.7.4"
  }
 },
 "nbformat": 4,
 "nbformat_minor": 2
}
